{
 "cells": [
  {
   "cell_type": "markdown",
   "id": "c59541fc",
   "metadata": {},
   "source": [
    "# Exploring and Processing the Data\n",
    "\n",
    "In this notebook, we will begin analyzing the data. The dataset of focus here is a dataset of musical instrument reviews from Amazon. The end goal will be to categorize them as good, bad, or neutral. The data comes from Kaggle: https://www.kaggle.com/datasets/eswarchandt/amazon-music-reviews/discussion/161304."
   ]
  },
  {
   "cell_type": "code",
   "execution_count": 10,
   "id": "cb165f72",
   "metadata": {},
   "outputs": [],
   "source": [
    "#import standard libraries\n",
    "import numpy as np\n",
    "import pandas as pd\n",
    "import matplotlib.pyplot as plt\n",
    "from collections import Counter"
   ]
  },
  {
   "cell_type": "code",
   "execution_count": 33,
   "id": "60a75c78",
   "metadata": {},
   "outputs": [
    {
     "data": {
      "text/html": [
       "<div>\n",
       "<style scoped>\n",
       "    .dataframe tbody tr th:only-of-type {\n",
       "        vertical-align: middle;\n",
       "    }\n",
       "\n",
       "    .dataframe tbody tr th {\n",
       "        vertical-align: top;\n",
       "    }\n",
       "\n",
       "    .dataframe thead th {\n",
       "        text-align: right;\n",
       "    }\n",
       "</style>\n",
       "<table border=\"1\" class=\"dataframe\">\n",
       "  <thead>\n",
       "    <tr style=\"text-align: right;\">\n",
       "      <th></th>\n",
       "      <th>reviewerID</th>\n",
       "      <th>asin</th>\n",
       "      <th>reviewerName</th>\n",
       "      <th>helpful</th>\n",
       "      <th>reviewText</th>\n",
       "      <th>overall</th>\n",
       "      <th>summary</th>\n",
       "      <th>unixReviewTime</th>\n",
       "      <th>reviewTime</th>\n",
       "    </tr>\n",
       "  </thead>\n",
       "  <tbody>\n",
       "    <tr>\n",
       "      <th>0</th>\n",
       "      <td>A2IBPI20UZIR0U</td>\n",
       "      <td>1384719342</td>\n",
       "      <td>cassandra tu \"Yeah, well, that's just like, u...</td>\n",
       "      <td>[0, 0]</td>\n",
       "      <td>Not much to write about here, but it does exac...</td>\n",
       "      <td>5</td>\n",
       "      <td>good</td>\n",
       "      <td>1393545600</td>\n",
       "      <td>02 28, 2014</td>\n",
       "    </tr>\n",
       "    <tr>\n",
       "      <th>1</th>\n",
       "      <td>A14VAT5EAX3D9S</td>\n",
       "      <td>1384719342</td>\n",
       "      <td>Jake</td>\n",
       "      <td>[13, 14]</td>\n",
       "      <td>The product does exactly as it should and is q...</td>\n",
       "      <td>5</td>\n",
       "      <td>Jake</td>\n",
       "      <td>1363392000</td>\n",
       "      <td>03 16, 2013</td>\n",
       "    </tr>\n",
       "    <tr>\n",
       "      <th>2</th>\n",
       "      <td>A195EZSQDW3E21</td>\n",
       "      <td>1384719342</td>\n",
       "      <td>Rick Bennette \"Rick Bennette\"</td>\n",
       "      <td>[1, 1]</td>\n",
       "      <td>The primary job of this device is to block the...</td>\n",
       "      <td>5</td>\n",
       "      <td>It Does The Job Well</td>\n",
       "      <td>1377648000</td>\n",
       "      <td>08 28, 2013</td>\n",
       "    </tr>\n",
       "    <tr>\n",
       "      <th>3</th>\n",
       "      <td>A2C00NNG1ZQQG2</td>\n",
       "      <td>1384719342</td>\n",
       "      <td>RustyBill \"Sunday Rocker\"</td>\n",
       "      <td>[0, 0]</td>\n",
       "      <td>Nice windscreen protects my MXL mic and preven...</td>\n",
       "      <td>5</td>\n",
       "      <td>GOOD WINDSCREEN FOR THE MONEY</td>\n",
       "      <td>1392336000</td>\n",
       "      <td>02 14, 2014</td>\n",
       "    </tr>\n",
       "    <tr>\n",
       "      <th>4</th>\n",
       "      <td>A94QU4C90B1AX</td>\n",
       "      <td>1384719342</td>\n",
       "      <td>SEAN MASLANKA</td>\n",
       "      <td>[0, 0]</td>\n",
       "      <td>This pop filter is great. It looks and perform...</td>\n",
       "      <td>5</td>\n",
       "      <td>No more pops when I record my vocals.</td>\n",
       "      <td>1392940800</td>\n",
       "      <td>02 21, 2014</td>\n",
       "    </tr>\n",
       "  </tbody>\n",
       "</table>\n",
       "</div>"
      ],
      "text/plain": [
       "       reviewerID        asin  \\\n",
       "0  A2IBPI20UZIR0U  1384719342   \n",
       "1  A14VAT5EAX3D9S  1384719342   \n",
       "2  A195EZSQDW3E21  1384719342   \n",
       "3  A2C00NNG1ZQQG2  1384719342   \n",
       "4   A94QU4C90B1AX  1384719342   \n",
       "\n",
       "                                       reviewerName   helpful  \\\n",
       "0  cassandra tu \"Yeah, well, that's just like, u...    [0, 0]   \n",
       "1                                              Jake  [13, 14]   \n",
       "2                     Rick Bennette \"Rick Bennette\"    [1, 1]   \n",
       "3                         RustyBill \"Sunday Rocker\"    [0, 0]   \n",
       "4                                     SEAN MASLANKA    [0, 0]   \n",
       "\n",
       "                                          reviewText  overall  \\\n",
       "0  Not much to write about here, but it does exac...        5   \n",
       "1  The product does exactly as it should and is q...        5   \n",
       "2  The primary job of this device is to block the...        5   \n",
       "3  Nice windscreen protects my MXL mic and preven...        5   \n",
       "4  This pop filter is great. It looks and perform...        5   \n",
       "\n",
       "                                 summary  unixReviewTime   reviewTime  \n",
       "0                                   good      1393545600  02 28, 2014  \n",
       "1                                   Jake      1363392000  03 16, 2013  \n",
       "2                   It Does The Job Well      1377648000  08 28, 2013  \n",
       "3          GOOD WINDSCREEN FOR THE MONEY      1392336000  02 14, 2014  \n",
       "4  No more pops when I record my vocals.      1392940800  02 21, 2014  "
      ]
     },
     "execution_count": 33,
     "metadata": {},
     "output_type": "execute_result"
    }
   ],
   "source": [
    "df = pd.read_json('../data/Musical_Instruments_5.json', lines=True)\n",
    "\n",
    "df.head()"
   ]
  },
  {
   "cell_type": "markdown",
   "id": "ea93c070",
   "metadata": {},
   "source": [
    "## Data Definition"
   ]
  },
  {
   "cell_type": "code",
   "execution_count": 37,
   "id": "f964356b",
   "metadata": {},
   "outputs": [
    {
     "data": {
      "text/html": [
       "<div>\n",
       "<style scoped>\n",
       "    .dataframe tbody tr th:only-of-type {\n",
       "        vertical-align: middle;\n",
       "    }\n",
       "\n",
       "    .dataframe tbody tr th {\n",
       "        vertical-align: top;\n",
       "    }\n",
       "\n",
       "    .dataframe thead th {\n",
       "        text-align: right;\n",
       "    }\n",
       "</style>\n",
       "<table border=\"1\" class=\"dataframe\">\n",
       "  <thead>\n",
       "    <tr style=\"text-align: right;\">\n",
       "      <th></th>\n",
       "      <th>overall</th>\n",
       "      <th>unixReviewTime</th>\n",
       "    </tr>\n",
       "  </thead>\n",
       "  <tbody>\n",
       "    <tr>\n",
       "      <th>count</th>\n",
       "      <td>10261.000000</td>\n",
       "      <td>1.026100e+04</td>\n",
       "    </tr>\n",
       "    <tr>\n",
       "      <th>mean</th>\n",
       "      <td>4.488744</td>\n",
       "      <td>1.360606e+09</td>\n",
       "    </tr>\n",
       "    <tr>\n",
       "      <th>std</th>\n",
       "      <td>0.894642</td>\n",
       "      <td>3.779735e+07</td>\n",
       "    </tr>\n",
       "    <tr>\n",
       "      <th>min</th>\n",
       "      <td>1.000000</td>\n",
       "      <td>1.095466e+09</td>\n",
       "    </tr>\n",
       "    <tr>\n",
       "      <th>25%</th>\n",
       "      <td>4.000000</td>\n",
       "      <td>1.343434e+09</td>\n",
       "    </tr>\n",
       "    <tr>\n",
       "      <th>50%</th>\n",
       "      <td>5.000000</td>\n",
       "      <td>1.368490e+09</td>\n",
       "    </tr>\n",
       "    <tr>\n",
       "      <th>75%</th>\n",
       "      <td>5.000000</td>\n",
       "      <td>1.388966e+09</td>\n",
       "    </tr>\n",
       "    <tr>\n",
       "      <th>max</th>\n",
       "      <td>5.000000</td>\n",
       "      <td>1.405987e+09</td>\n",
       "    </tr>\n",
       "  </tbody>\n",
       "</table>\n",
       "</div>"
      ],
      "text/plain": [
       "            overall  unixReviewTime\n",
       "count  10261.000000    1.026100e+04\n",
       "mean       4.488744    1.360606e+09\n",
       "std        0.894642    3.779735e+07\n",
       "min        1.000000    1.095466e+09\n",
       "25%        4.000000    1.343434e+09\n",
       "50%        5.000000    1.368490e+09\n",
       "75%        5.000000    1.388966e+09\n",
       "max        5.000000    1.405987e+09"
      ]
     },
     "execution_count": 37,
     "metadata": {},
     "output_type": "execute_result"
    }
   ],
   "source": [
    "df.describe()"
   ]
  },
  {
   "cell_type": "code",
   "execution_count": 43,
   "id": "347743bc",
   "metadata": {},
   "outputs": [
    {
     "name": "stdout",
     "output_type": "stream",
     "text": [
      "<class 'pandas.core.frame.DataFrame'>\n",
      "RangeIndex: 10261 entries, 0 to 10260\n",
      "Data columns (total 9 columns):\n",
      " #   Column          Non-Null Count  Dtype \n",
      "---  ------          --------------  ----- \n",
      " 0   reviewerID      10261 non-null  object\n",
      " 1   asin            10261 non-null  object\n",
      " 2   reviewerName    10234 non-null  object\n",
      " 3   helpful         10261 non-null  object\n",
      " 4   reviewText      10261 non-null  object\n",
      " 5   overall         10261 non-null  int64 \n",
      " 6   summary         10261 non-null  object\n",
      " 7   unixReviewTime  10261 non-null  int64 \n",
      " 8   reviewTime      10261 non-null  object\n",
      "dtypes: int64(2), object(7)\n",
      "memory usage: 721.6+ KB\n"
     ]
    }
   ],
   "source": [
    "df.info()"
   ]
  },
  {
   "cell_type": "markdown",
   "id": "7b4ac5f9",
   "metadata": {},
   "source": [
    "So there are no null values in all columns except the reviewerName column. As expected, the overall column is of type int. The unixReviewTime is in seconds, and of type int, but this column will likely not be of any use. From the describe method above, it looks like most rerviews are positive. This may cause issues later.\n",
    "\n",
    "The columns with explanations are as follows:\n",
    " - reviewerID: the ID of the reviewer\n",
    " - asin: the ID of the product\n",
    " - reviewerName: the name of the reviewer\n",
    " - helpful: helpfulness rating of the review\n",
    " - reviewText: the actual review, in longform text\n",
    " - overall: the rating of the product\n",
    " - summary: a quick summary of the text review\n",
    " - unixReviewTime: the time of the review, in seconds from Jan 1 1970\n",
    " - reviewTime: the time of the review, in datetime format\n",
    "\n",
    "\n",
    "## Data Cleaning and Exploring\n",
    "\n",
    "Let's now clean the data and explore it a little bit as well. Since the most important part of this data is text, we can't explore everything too well now, but we can after pre-processing it. The final two columns are based on time, and we won't spend any time on it here yet because they are not of any relevance at the moment.\n",
    "\n",
    "**reviewerName:**"
   ]
  },
  {
   "cell_type": "code",
   "execution_count": 51,
   "id": "43229061",
   "metadata": {},
   "outputs": [
    {
     "data": {
      "text/html": [
       "<div>\n",
       "<style scoped>\n",
       "    .dataframe tbody tr th:only-of-type {\n",
       "        vertical-align: middle;\n",
       "    }\n",
       "\n",
       "    .dataframe tbody tr th {\n",
       "        vertical-align: top;\n",
       "    }\n",
       "\n",
       "    .dataframe thead th {\n",
       "        text-align: right;\n",
       "    }\n",
       "</style>\n",
       "<table border=\"1\" class=\"dataframe\">\n",
       "  <thead>\n",
       "    <tr style=\"text-align: right;\">\n",
       "      <th></th>\n",
       "      <th>reviewerID</th>\n",
       "      <th>asin</th>\n",
       "      <th>reviewerName</th>\n",
       "      <th>helpful</th>\n",
       "      <th>reviewText</th>\n",
       "      <th>overall</th>\n",
       "      <th>summary</th>\n",
       "      <th>unixReviewTime</th>\n",
       "      <th>reviewTime</th>\n",
       "    </tr>\n",
       "  </thead>\n",
       "  <tbody>\n",
       "    <tr>\n",
       "      <th>41</th>\n",
       "      <td>AA5TINW2RJ195</td>\n",
       "      <td>B000068NW5</td>\n",
       "      <td>NaN</td>\n",
       "      <td>[0, 0]</td>\n",
       "      <td>Good quality cable and sounds very good</td>\n",
       "      <td>5</td>\n",
       "      <td>Five Stars</td>\n",
       "      <td>1405382400</td>\n",
       "      <td>07 15, 2014</td>\n",
       "    </tr>\n",
       "    <tr>\n",
       "      <th>263</th>\n",
       "      <td>A14VAT5EAX3D9S</td>\n",
       "      <td>B0002CZSJO</td>\n",
       "      <td>NaN</td>\n",
       "      <td>[0, 0]</td>\n",
       "      <td>It is exactly what you need in a capo! You can...</td>\n",
       "      <td>5</td>\n",
       "      <td>Great</td>\n",
       "      <td>1364860800</td>\n",
       "      <td>04 2, 2013</td>\n",
       "    </tr>\n",
       "    <tr>\n",
       "      <th>264</th>\n",
       "      <td>A2RVY2GDMZHH4</td>\n",
       "      <td>B0002CZSJO</td>\n",
       "      <td>NaN</td>\n",
       "      <td>[0, 0]</td>\n",
       "      <td>Love these capos and nice that you can get the...</td>\n",
       "      <td>5</td>\n",
       "      <td>Always great Kyser</td>\n",
       "      <td>1356652800</td>\n",
       "      <td>12 28, 2012</td>\n",
       "    </tr>\n",
       "    <tr>\n",
       "      <th>432</th>\n",
       "      <td>A3BMYEA3J6RBVV</td>\n",
       "      <td>B0002CZVB4</td>\n",
       "      <td>NaN</td>\n",
       "      <td>[0, 0]</td>\n",
       "      <td>Bought it as a gift. Friend loved it very much.</td>\n",
       "      <td>5</td>\n",
       "      <td>Friend loved it very much</td>\n",
       "      <td>1405209600</td>\n",
       "      <td>07 13, 2014</td>\n",
       "    </tr>\n",
       "    <tr>\n",
       "      <th>667</th>\n",
       "      <td>AA5TINW2RJ195</td>\n",
       "      <td>B0002D01K4</td>\n",
       "      <td>NaN</td>\n",
       "      <td>[0, 0]</td>\n",
       "      <td>At first it look small for my guitar but it fi...</td>\n",
       "      <td>5</td>\n",
       "      <td>Love it!</td>\n",
       "      <td>1405382400</td>\n",
       "      <td>07 15, 2014</td>\n",
       "    </tr>\n",
       "  </tbody>\n",
       "</table>\n",
       "</div>"
      ],
      "text/plain": [
       "         reviewerID        asin reviewerName helpful  \\\n",
       "41    AA5TINW2RJ195  B000068NW5          NaN  [0, 0]   \n",
       "263  A14VAT5EAX3D9S  B0002CZSJO          NaN  [0, 0]   \n",
       "264   A2RVY2GDMZHH4  B0002CZSJO          NaN  [0, 0]   \n",
       "432  A3BMYEA3J6RBVV  B0002CZVB4          NaN  [0, 0]   \n",
       "667   AA5TINW2RJ195  B0002D01K4          NaN  [0, 0]   \n",
       "\n",
       "                                            reviewText  overall  \\\n",
       "41             Good quality cable and sounds very good        5   \n",
       "263  It is exactly what you need in a capo! You can...        5   \n",
       "264  Love these capos and nice that you can get the...        5   \n",
       "432    Bought it as a gift. Friend loved it very much.        5   \n",
       "667  At first it look small for my guitar but it fi...        5   \n",
       "\n",
       "                       summary  unixReviewTime   reviewTime  \n",
       "41                  Five Stars      1405382400  07 15, 2014  \n",
       "263                      Great      1364860800   04 2, 2013  \n",
       "264         Always great Kyser      1356652800  12 28, 2012  \n",
       "432  Friend loved it very much      1405209600  07 13, 2014  \n",
       "667                   Love it!      1405382400  07 15, 2014  "
      ]
     },
     "execution_count": 51,
     "metadata": {},
     "output_type": "execute_result"
    }
   ],
   "source": [
    "df[df['reviewerName'].isna()].head()"
   ]
  },
  {
   "cell_type": "code",
   "execution_count": 56,
   "id": "fa2bd6f9",
   "metadata": {},
   "outputs": [
    {
     "name": "stdout",
     "output_type": "stream",
     "text": [
      "Number of missing reviewerNames: 27\n"
     ]
    }
   ],
   "source": [
    "print('Number of missing reviewerNames:', df[df['reviewerName'].isna()].shape[0])"
   ]
  },
  {
   "cell_type": "markdown",
   "id": "9a000835",
   "metadata": {},
   "source": [
    "It looks like there are not many reviews that are missing names, when considering that the data has 10261 reviews. This means we could comfortably remove these reviews, but because we are doing sentiment analysis and we don't care about the reviewer names at the moment, we will just leave them in.\n",
    "\n",
    "**reviewerID and asin:**"
   ]
  },
  {
   "cell_type": "code",
   "execution_count": 63,
   "id": "de6bc031",
   "metadata": {},
   "outputs": [
    {
     "name": "stdout",
     "output_type": "stream",
     "text": [
      "Number of unique reviewers: 1429\n",
      "Number of unique instruments/products: 900\n"
     ]
    }
   ],
   "source": [
    "print('Number of unique reviewers:', len(df['reviewerID'].unique()))\n",
    "print('Number of unique instruments/products:', len(df['asin'].unique()))"
   ]
  },
  {
   "cell_type": "markdown",
   "id": "6b81ea54",
   "metadata": {},
   "source": [
    "So there are many repeat reviewers. This means each reviewer reviewed a product roughly 7 times. Similarly, each product was reviewed about 11 times. This is a naive way to approach the number of reviews here this way, since it was just simple division, but we can double check this by counting them now. \n",
    "\n",
    "We can do this by taking a using the counter function on the values of the columns. This will output a dict, with the values being the frequency of the reiviewer or instrument ID's. Taking another counter of this will let us see how many times a reviewer reviewed a product, or how many times an instrument was reviewed."
   ]
  },
  {
   "cell_type": "code",
   "execution_count": 77,
   "id": "f1418a17",
   "metadata": {},
   "outputs": [
    {
     "data": {
      "text/plain": [
       "[(5, 558), (6, 296), (7, 188), (8, 128), (9, 71)]"
      ]
     },
     "execution_count": 77,
     "metadata": {},
     "output_type": "execute_result"
    }
   ],
   "source": [
    "#seeing how many times a reviewer reviewed an instrument\n",
    "Counter(Counter(df['reviewerID']).values()).most_common(5)"
   ]
  },
  {
   "cell_type": "code",
   "execution_count": 78,
   "id": "57b9850e",
   "metadata": {},
   "outputs": [
    {
     "data": {
      "text/plain": [
       "[(5, 197), (6, 141), (7, 107), (8, 77), (9, 61)]"
      ]
     },
     "execution_count": 78,
     "metadata": {},
     "output_type": "execute_result"
    }
   ],
   "source": [
    "#seeing how many times an instrument was reviewed\n",
    "Counter(Counter(df['asin']).values()).most_common(5)"
   ]
  },
  {
   "cell_type": "markdown",
   "id": "ce7b7999",
   "metadata": {},
   "source": [
    "So the simple division was naive indeed, as both of these cases had about 5-9 reviews only most of the time. In any case, this might be useful information later on, where we can see if a certain reviewer tends to rate more positively or not, or more importantly, if an instrument get more positive or negative reviews.\n",
    "\n",
    "\n",
    "**helpful:**\n",
    "\n",
    "The next column to deal with is the helpful column. This has values in the form of lists with two values, the first being the number of thumbs up a reivew got, indicating how helpful the review was, and the second value is the total number of people who rated the review (i.e. the number of people who gave the review a thumbs up + the number of thumbs down). This is an interesting metric that can tell us how useful a review was, and maybe give us an idea of how we could introduce weights to each review."
   ]
  },
  {
   "cell_type": "code",
   "execution_count": 114,
   "id": "5ef6ce8d",
   "metadata": {},
   "outputs": [
    {
     "data": {
      "text/html": [
       "<div>\n",
       "<style scoped>\n",
       "    .dataframe tbody tr th:only-of-type {\n",
       "        vertical-align: middle;\n",
       "    }\n",
       "\n",
       "    .dataframe tbody tr th {\n",
       "        vertical-align: top;\n",
       "    }\n",
       "\n",
       "    .dataframe thead th {\n",
       "        text-align: right;\n",
       "    }\n",
       "</style>\n",
       "<table border=\"1\" class=\"dataframe\">\n",
       "  <thead>\n",
       "    <tr style=\"text-align: right;\">\n",
       "      <th></th>\n",
       "      <th>reviewerID</th>\n",
       "      <th>asin</th>\n",
       "      <th>reviewerName</th>\n",
       "      <th>helpful</th>\n",
       "      <th>reviewText</th>\n",
       "      <th>overall</th>\n",
       "      <th>summary</th>\n",
       "      <th>unixReviewTime</th>\n",
       "      <th>reviewTime</th>\n",
       "    </tr>\n",
       "  </thead>\n",
       "  <tbody>\n",
       "    <tr>\n",
       "      <th>1</th>\n",
       "      <td>A14VAT5EAX3D9S</td>\n",
       "      <td>1384719342</td>\n",
       "      <td>Jake</td>\n",
       "      <td>[13, 14]</td>\n",
       "      <td>The product does exactly as it should and is q...</td>\n",
       "      <td>5</td>\n",
       "      <td>Jake</td>\n",
       "      <td>1363392000</td>\n",
       "      <td>03 16, 2013</td>\n",
       "    </tr>\n",
       "    <tr>\n",
       "      <th>2</th>\n",
       "      <td>A195EZSQDW3E21</td>\n",
       "      <td>1384719342</td>\n",
       "      <td>Rick Bennette \"Rick Bennette\"</td>\n",
       "      <td>[1, 1]</td>\n",
       "      <td>The primary job of this device is to block the...</td>\n",
       "      <td>5</td>\n",
       "      <td>It Does The Job Well</td>\n",
       "      <td>1377648000</td>\n",
       "      <td>08 28, 2013</td>\n",
       "    </tr>\n",
       "    <tr>\n",
       "      <th>10</th>\n",
       "      <td>A2NYK9KWFMJV4Y</td>\n",
       "      <td>B00004Y2UT</td>\n",
       "      <td>Mike Tarrani \"Jazz Drummer\"</td>\n",
       "      <td>[6, 6]</td>\n",
       "      <td>Monster makes a wide array of cables, includin...</td>\n",
       "      <td>5</td>\n",
       "      <td>One of the best instrument cables within the b...</td>\n",
       "      <td>1334793600</td>\n",
       "      <td>04 19, 2012</td>\n",
       "    </tr>\n",
       "    <tr>\n",
       "      <th>18</th>\n",
       "      <td>A2EZWZ8MBEDOLN</td>\n",
       "      <td>B000068NSX</td>\n",
       "      <td>Charlo</td>\n",
       "      <td>[3, 3]</td>\n",
       "      <td>I've been using these cables for more than 4 m...</td>\n",
       "      <td>5</td>\n",
       "      <td>So far so good.  Will revisit at the 6 month m...</td>\n",
       "      <td>1363564800</td>\n",
       "      <td>03 18, 2013</td>\n",
       "    </tr>\n",
       "    <tr>\n",
       "      <th>28</th>\n",
       "      <td>A2CCGGDGZ694CT</td>\n",
       "      <td>B000068NVI</td>\n",
       "      <td>b carney</td>\n",
       "      <td>[1, 1]</td>\n",
       "      <td>The Hosa XLR cables are affordable and very he...</td>\n",
       "      <td>4</td>\n",
       "      <td>Very Heavy Cables At Affordable Price</td>\n",
       "      <td>1341964800</td>\n",
       "      <td>07 11, 2012</td>\n",
       "    </tr>\n",
       "  </tbody>\n",
       "</table>\n",
       "</div>"
      ],
      "text/plain": [
       "        reviewerID        asin                   reviewerName   helpful  \\\n",
       "1   A14VAT5EAX3D9S  1384719342                           Jake  [13, 14]   \n",
       "2   A195EZSQDW3E21  1384719342  Rick Bennette \"Rick Bennette\"    [1, 1]   \n",
       "10  A2NYK9KWFMJV4Y  B00004Y2UT    Mike Tarrani \"Jazz Drummer\"    [6, 6]   \n",
       "18  A2EZWZ8MBEDOLN  B000068NSX                         Charlo    [3, 3]   \n",
       "28  A2CCGGDGZ694CT  B000068NVI                       b carney    [1, 1]   \n",
       "\n",
       "                                           reviewText  overall  \\\n",
       "1   The product does exactly as it should and is q...        5   \n",
       "2   The primary job of this device is to block the...        5   \n",
       "10  Monster makes a wide array of cables, includin...        5   \n",
       "18  I've been using these cables for more than 4 m...        5   \n",
       "28  The Hosa XLR cables are affordable and very he...        4   \n",
       "\n",
       "                                              summary  unixReviewTime  \\\n",
       "1                                                Jake      1363392000   \n",
       "2                                It Does The Job Well      1377648000   \n",
       "10  One of the best instrument cables within the b...      1334793600   \n",
       "18  So far so good.  Will revisit at the 6 month m...      1363564800   \n",
       "28              Very Heavy Cables At Affordable Price      1341964800   \n",
       "\n",
       "     reviewTime  \n",
       "1   03 16, 2013  \n",
       "2   08 28, 2013  \n",
       "10  04 19, 2012  \n",
       "18  03 18, 2013  \n",
       "28  07 11, 2012  "
      ]
     },
     "execution_count": 114,
     "metadata": {},
     "output_type": "execute_result"
    }
   ],
   "source": [
    "df[df['helpful'].apply(lambda x: [0, 0] != x)].head()"
   ]
  },
  {
   "cell_type": "markdown",
   "id": "6d1ff20e",
   "metadata": {},
   "source": [
    "Unfortunately, not all reviews have any thumbs up or thumbs down reivews. In fact, about 34% of reviews have ratings for them. It would be too hard to introduce anything from that, unless we ignored the non-rated reviews. Perhaps this is still something to consider later though.\n",
    "\n",
    "**reviewText and summary:**\n",
    "\n",
    "Now we consider the most important columns, that is the reviewText and the summary columns. These are the text columns that we will use to predict the overall column (which we will modify later into classes). In principal, we only need the reviewText column, but we can clean the summary column while we clean the reviewText column anyways, and use them both should we choose."
   ]
  },
  {
   "cell_type": "code",
   "execution_count": 124,
   "id": "4427e434",
   "metadata": {},
   "outputs": [],
   "source": [
    "#lets make a copy of the dataframe first, since this is where the important cleaning begins\n",
    "df_clean = df.copy()"
   ]
  },
  {
   "cell_type": "code",
   "execution_count": 125,
   "id": "28357f0b",
   "metadata": {},
   "outputs": [],
   "source": [
    "# recall the time columns are not relavant, so we will remove them here\n",
    "df_clean = df_clean.drop(columns = ['unixReviewTime', 'reviewTime'])\n",
    "\n",
    "#also going to reorder columns so overall is last\n",
    "df_clean = df_clean[['reviewerID', 'asin', 'reviewerName', 'helpful', 'reviewText', 'summary', 'overall']]"
   ]
  },
  {
   "cell_type": "code",
   "execution_count": 126,
   "id": "13de7d48",
   "metadata": {},
   "outputs": [],
   "source": [
    "#first, we can make the text lower case\n",
    "df_clean['reviewText'] = df_clean['reviewText'].apply(lambda x: x.lower())\n",
    "df_clean['summary'] = df_clean['summary'].apply(lambda x: x.lower())"
   ]
  },
  {
   "cell_type": "code",
   "execution_count": 127,
   "id": "fba10d40",
   "metadata": {},
   "outputs": [
    {
     "data": {
      "text/html": [
       "<div>\n",
       "<style scoped>\n",
       "    .dataframe tbody tr th:only-of-type {\n",
       "        vertical-align: middle;\n",
       "    }\n",
       "\n",
       "    .dataframe tbody tr th {\n",
       "        vertical-align: top;\n",
       "    }\n",
       "\n",
       "    .dataframe thead th {\n",
       "        text-align: right;\n",
       "    }\n",
       "</style>\n",
       "<table border=\"1\" class=\"dataframe\">\n",
       "  <thead>\n",
       "    <tr style=\"text-align: right;\">\n",
       "      <th></th>\n",
       "      <th>reviewerID</th>\n",
       "      <th>asin</th>\n",
       "      <th>reviewerName</th>\n",
       "      <th>helpful</th>\n",
       "      <th>reviewText</th>\n",
       "      <th>summary</th>\n",
       "      <th>overall</th>\n",
       "    </tr>\n",
       "  </thead>\n",
       "  <tbody>\n",
       "    <tr>\n",
       "      <th>0</th>\n",
       "      <td>A2IBPI20UZIR0U</td>\n",
       "      <td>1384719342</td>\n",
       "      <td>cassandra tu \"Yeah, well, that's just like, u...</td>\n",
       "      <td>[0, 0]</td>\n",
       "      <td>not much to write about here, but it does exac...</td>\n",
       "      <td>good</td>\n",
       "      <td>5</td>\n",
       "    </tr>\n",
       "    <tr>\n",
       "      <th>1</th>\n",
       "      <td>A14VAT5EAX3D9S</td>\n",
       "      <td>1384719342</td>\n",
       "      <td>Jake</td>\n",
       "      <td>[13, 14]</td>\n",
       "      <td>the product does exactly as it should and is q...</td>\n",
       "      <td>jake</td>\n",
       "      <td>5</td>\n",
       "    </tr>\n",
       "    <tr>\n",
       "      <th>2</th>\n",
       "      <td>A195EZSQDW3E21</td>\n",
       "      <td>1384719342</td>\n",
       "      <td>Rick Bennette \"Rick Bennette\"</td>\n",
       "      <td>[1, 1]</td>\n",
       "      <td>the primary job of this device is to block the...</td>\n",
       "      <td>it does the job well</td>\n",
       "      <td>5</td>\n",
       "    </tr>\n",
       "    <tr>\n",
       "      <th>3</th>\n",
       "      <td>A2C00NNG1ZQQG2</td>\n",
       "      <td>1384719342</td>\n",
       "      <td>RustyBill \"Sunday Rocker\"</td>\n",
       "      <td>[0, 0]</td>\n",
       "      <td>nice windscreen protects my mxl mic and preven...</td>\n",
       "      <td>good windscreen for the money</td>\n",
       "      <td>5</td>\n",
       "    </tr>\n",
       "    <tr>\n",
       "      <th>4</th>\n",
       "      <td>A94QU4C90B1AX</td>\n",
       "      <td>1384719342</td>\n",
       "      <td>SEAN MASLANKA</td>\n",
       "      <td>[0, 0]</td>\n",
       "      <td>this pop filter is great. it looks and perform...</td>\n",
       "      <td>no more pops when i record my vocals.</td>\n",
       "      <td>5</td>\n",
       "    </tr>\n",
       "  </tbody>\n",
       "</table>\n",
       "</div>"
      ],
      "text/plain": [
       "       reviewerID        asin  \\\n",
       "0  A2IBPI20UZIR0U  1384719342   \n",
       "1  A14VAT5EAX3D9S  1384719342   \n",
       "2  A195EZSQDW3E21  1384719342   \n",
       "3  A2C00NNG1ZQQG2  1384719342   \n",
       "4   A94QU4C90B1AX  1384719342   \n",
       "\n",
       "                                       reviewerName   helpful  \\\n",
       "0  cassandra tu \"Yeah, well, that's just like, u...    [0, 0]   \n",
       "1                                              Jake  [13, 14]   \n",
       "2                     Rick Bennette \"Rick Bennette\"    [1, 1]   \n",
       "3                         RustyBill \"Sunday Rocker\"    [0, 0]   \n",
       "4                                     SEAN MASLANKA    [0, 0]   \n",
       "\n",
       "                                          reviewText  \\\n",
       "0  not much to write about here, but it does exac...   \n",
       "1  the product does exactly as it should and is q...   \n",
       "2  the primary job of this device is to block the...   \n",
       "3  nice windscreen protects my mxl mic and preven...   \n",
       "4  this pop filter is great. it looks and perform...   \n",
       "\n",
       "                                 summary  overall  \n",
       "0                                   good        5  \n",
       "1                                   jake        5  \n",
       "2                   it does the job well        5  \n",
       "3          good windscreen for the money        5  \n",
       "4  no more pops when i record my vocals.        5  "
      ]
     },
     "execution_count": 127,
     "metadata": {},
     "output_type": "execute_result"
    }
   ],
   "source": [
    "df_clean.head()"
   ]
  },
  {
   "cell_type": "code",
   "execution_count": null,
   "id": "844e6f2a",
   "metadata": {},
   "outputs": [],
   "source": []
  },
  {
   "cell_type": "code",
   "execution_count": null,
   "id": "43b3adb4",
   "metadata": {},
   "outputs": [],
   "source": []
  },
  {
   "cell_type": "code",
   "execution_count": null,
   "id": "6964d0f9",
   "metadata": {},
   "outputs": [],
   "source": []
  },
  {
   "cell_type": "code",
   "execution_count": null,
   "id": "c4a1dc16",
   "metadata": {},
   "outputs": [],
   "source": []
  },
  {
   "cell_type": "code",
   "execution_count": null,
   "id": "6e48a136",
   "metadata": {},
   "outputs": [],
   "source": []
  },
  {
   "cell_type": "code",
   "execution_count": null,
   "id": "e98c0b7f",
   "metadata": {},
   "outputs": [],
   "source": []
  },
  {
   "cell_type": "code",
   "execution_count": null,
   "id": "d8e5bf75",
   "metadata": {},
   "outputs": [],
   "source": []
  },
  {
   "cell_type": "code",
   "execution_count": null,
   "id": "1bc8f8c1",
   "metadata": {},
   "outputs": [],
   "source": []
  },
  {
   "cell_type": "markdown",
   "id": "9fe385ef",
   "metadata": {},
   "source": [
    "**overall:**"
   ]
  },
  {
   "cell_type": "code",
   "execution_count": 154,
   "id": "1401ddf5",
   "metadata": {},
   "outputs": [
    {
     "data": {
      "image/png": "[encoded data removed]",
      "text/plain": [
       "<Figure size 640x480 with 1 Axes>"
      ]
     },
     "metadata": {},
     "output_type": "display_data"
    }
   ],
   "source": [
    "df_clean['overall'].value_counts().plot.bar(rot=0)\n",
    "plt.title('Frequency plot of review ratings')\n",
    "plt.xlabel('rating frequency')\n",
    "plt.ylabel('rating out of 5')\n",
    "plt.show()"
   ]
  },
  {
   "cell_type": "code",
   "execution_count": 136,
   "id": "8696404c",
   "metadata": {},
   "outputs": [
    {
     "data": {
      "text/plain": [
       "0        good\n",
       "1        good\n",
       "2        good\n",
       "3        good\n",
       "4        good\n",
       "         ... \n",
       "10256    good\n",
       "10257    good\n",
       "10258    good\n",
       "10259    good\n",
       "10260    good\n",
       "Name: overall, Length: 10261, dtype: object"
      ]
     },
     "execution_count": 136,
     "metadata": {},
     "output_type": "execute_result"
    }
   ],
   "source": [
    "dct = {5:'good', 4: 'good', 3: 'neutral', 2: 'bad', 1: 'bad'}\n",
    "\n",
    "df_clean['overall'].apply(lambda x: dct[x])"
   ]
  }
 ],
 "metadata": {
  "kernelspec": {
   "display_name": "Python 3 (ipykernel)",
   "language": "python",
   "name": "python3"
  },
  "language_info": {
   "codemirror_mode": {
    "name": "ipython",
    "version": 3
   },
   "file_extension": ".py",
   "mimetype": "text/x-python",
   "name": "python",
   "nbconvert_exporter": "python",
   "pygments_lexer": "ipython3",
   "version": "3.8.5"
  }
 },
 "nbformat": 4,
 "nbformat_minor": 5
}
