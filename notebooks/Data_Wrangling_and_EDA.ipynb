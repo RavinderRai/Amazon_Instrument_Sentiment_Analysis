{
 "cells": [
  {
   "cell_type": "markdown",
   "id": "b87d8b36",
   "metadata": {},
   "source": [
    "# Exploring and Processing the Data\n",
    "\n",
    "In this notebook, we will begin analyzing the data. The dataset of focus here is a dataset of musical instrument reviews from Amazon. The end goal will be to categorize them as good, bad, or neutral."
   ]
  },
  {
   "cell_type": "code",
   "execution_count": 10,
   "id": "61962b00",
   "metadata": {},
   "outputs": [],
   "source": [
    "#import standard libraries\n",
    "import numpy as np\n",
    "import pandas as pd\n",
    "import matplotlib.pyplot as plt\n",
    "from collections import Counter"
   ]
  },
  {
   "cell_type": "code",
   "execution_count": 33,
   "id": "92a0d8ba",
   "metadata": {},
   "outputs": [
    {
     "data": {
      "text/html": [
       "<div>\n",
       "<style scoped>\n",
       "    .dataframe tbody tr th:only-of-type {\n",
       "        vertical-align: middle;\n",
       "    }\n",
       "\n",
       "    .dataframe tbody tr th {\n",
       "        vertical-align: top;\n",
       "    }\n",
       "\n",
       "    .dataframe thead th {\n",
       "        text-align: right;\n",
       "    }\n",
       "</style>\n",
       "<table border=\"1\" class=\"dataframe\">\n",
       "  <thead>\n",
       "    <tr style=\"text-align: right;\">\n",
       "      <th></th>\n",
       "      <th>reviewerID</th>\n",
       "      <th>asin</th>\n",
       "      <th>reviewerName</th>\n",
       "      <th>helpful</th>\n",
       "      <th>reviewText</th>\n",
       "      <th>overall</th>\n",
       "      <th>summary</th>\n",
       "      <th>unixReviewTime</th>\n",
       "      <th>reviewTime</th>\n",
       "    </tr>\n",
       "  </thead>\n",
       "  <tbody>\n",
       "    <tr>\n",
       "      <th>0</th>\n",
       "      <td>A2IBPI20UZIR0U</td>\n",
       "      <td>1384719342</td>\n",
       "      <td>cassandra tu \"Yeah, well, that's just like, u...</td>\n",
       "      <td>[0, 0]</td>\n",
       "      <td>Not much to write about here, but it does exac...</td>\n",
       "      <td>5</td>\n",
       "      <td>good</td>\n",
       "      <td>1393545600</td>\n",
       "      <td>02 28, 2014</td>\n",
       "    </tr>\n",
       "    <tr>\n",
       "      <th>1</th>\n",
       "      <td>A14VAT5EAX3D9S</td>\n",
       "      <td>1384719342</td>\n",
       "      <td>Jake</td>\n",
       "      <td>[13, 14]</td>\n",
       "      <td>The product does exactly as it should and is q...</td>\n",
       "      <td>5</td>\n",
       "      <td>Jake</td>\n",
       "      <td>1363392000</td>\n",
       "      <td>03 16, 2013</td>\n",
       "    </tr>\n",
       "    <tr>\n",
       "      <th>2</th>\n",
       "      <td>A195EZSQDW3E21</td>\n",
       "      <td>1384719342</td>\n",
       "      <td>Rick Bennette \"Rick Bennette\"</td>\n",
       "      <td>[1, 1]</td>\n",
       "      <td>The primary job of this device is to block the...</td>\n",
       "      <td>5</td>\n",
       "      <td>It Does The Job Well</td>\n",
       "      <td>1377648000</td>\n",
       "      <td>08 28, 2013</td>\n",
       "    </tr>\n",
       "    <tr>\n",
       "      <th>3</th>\n",
       "      <td>A2C00NNG1ZQQG2</td>\n",
       "      <td>1384719342</td>\n",
       "      <td>RustyBill \"Sunday Rocker\"</td>\n",
       "      <td>[0, 0]</td>\n",
       "      <td>Nice windscreen protects my MXL mic and preven...</td>\n",
       "      <td>5</td>\n",
       "      <td>GOOD WINDSCREEN FOR THE MONEY</td>\n",
       "      <td>1392336000</td>\n",
       "      <td>02 14, 2014</td>\n",
       "    </tr>\n",
       "    <tr>\n",
       "      <th>4</th>\n",
       "      <td>A94QU4C90B1AX</td>\n",
       "      <td>1384719342</td>\n",
       "      <td>SEAN MASLANKA</td>\n",
       "      <td>[0, 0]</td>\n",
       "      <td>This pop filter is great. It looks and perform...</td>\n",
       "      <td>5</td>\n",
       "      <td>No more pops when I record my vocals.</td>\n",
       "      <td>1392940800</td>\n",
       "      <td>02 21, 2014</td>\n",
       "    </tr>\n",
       "  </tbody>\n",
       "</table>\n",
       "</div>"
      ],
      "text/plain": [
       "       reviewerID        asin  \\\n",
       "0  A2IBPI20UZIR0U  1384719342   \n",
       "1  A14VAT5EAX3D9S  1384719342   \n",
       "2  A195EZSQDW3E21  1384719342   \n",
       "3  A2C00NNG1ZQQG2  1384719342   \n",
       "4   A94QU4C90B1AX  1384719342   \n",
       "\n",
       "                                       reviewerName   helpful  \\\n",
       "0  cassandra tu \"Yeah, well, that's just like, u...    [0, 0]   \n",
       "1                                              Jake  [13, 14]   \n",
       "2                     Rick Bennette \"Rick Bennette\"    [1, 1]   \n",
       "3                         RustyBill \"Sunday Rocker\"    [0, 0]   \n",
       "4                                     SEAN MASLANKA    [0, 0]   \n",
       "\n",
       "                                          reviewText  overall  \\\n",
       "0  Not much to write about here, but it does exac...        5   \n",
       "1  The product does exactly as it should and is q...        5   \n",
       "2  The primary job of this device is to block the...        5   \n",
       "3  Nice windscreen protects my MXL mic and preven...        5   \n",
       "4  This pop filter is great. It looks and perform...        5   \n",
       "\n",
       "                                 summary  unixReviewTime   reviewTime  \n",
       "0                                   good      1393545600  02 28, 2014  \n",
       "1                                   Jake      1363392000  03 16, 2013  \n",
       "2                   It Does The Job Well      1377648000  08 28, 2013  \n",
       "3          GOOD WINDSCREEN FOR THE MONEY      1392336000  02 14, 2014  \n",
       "4  No more pops when I record my vocals.      1392940800  02 21, 2014  "
      ]
     },
     "execution_count": 33,
     "metadata": {},
     "output_type": "execute_result"
    }
   ],
   "source": [
    "df = pd.read_json('../data/Musical_Instruments_5.json', lines=True)\n",
    "\n",
    "df.head()"
   ]
  },
  {
   "cell_type": "markdown",
   "id": "3977f839",
   "metadata": {},
   "source": [
    "## Data Definition"
   ]
  },
  {
   "cell_type": "code",
   "execution_count": 37,
   "id": "f699fcc3",
   "metadata": {},
   "outputs": [
    {
     "data": {
      "text/html": [
       "<div>\n",
       "<style scoped>\n",
       "    .dataframe tbody tr th:only-of-type {\n",
       "        vertical-align: middle;\n",
       "    }\n",
       "\n",
       "    .dataframe tbody tr th {\n",
       "        vertical-align: top;\n",
       "    }\n",
       "\n",
       "    .dataframe thead th {\n",
       "        text-align: right;\n",
       "    }\n",
       "</style>\n",
       "<table border=\"1\" class=\"dataframe\">\n",
       "  <thead>\n",
       "    <tr style=\"text-align: right;\">\n",
       "      <th></th>\n",
       "      <th>overall</th>\n",
       "      <th>unixReviewTime</th>\n",
       "    </tr>\n",
       "  </thead>\n",
       "  <tbody>\n",
       "    <tr>\n",
       "      <th>count</th>\n",
       "      <td>10261.000000</td>\n",
       "      <td>1.026100e+04</td>\n",
       "    </tr>\n",
       "    <tr>\n",
       "      <th>mean</th>\n",
       "      <td>4.488744</td>\n",
       "      <td>1.360606e+09</td>\n",
       "    </tr>\n",
       "    <tr>\n",
       "      <th>std</th>\n",
       "      <td>0.894642</td>\n",
       "      <td>3.779735e+07</td>\n",
       "    </tr>\n",
       "    <tr>\n",
       "      <th>min</th>\n",
       "      <td>1.000000</td>\n",
       "      <td>1.095466e+09</td>\n",
       "    </tr>\n",
       "    <tr>\n",
       "      <th>25%</th>\n",
       "      <td>4.000000</td>\n",
       "      <td>1.343434e+09</td>\n",
       "    </tr>\n",
       "    <tr>\n",
       "      <th>50%</th>\n",
       "      <td>5.000000</td>\n",
       "      <td>1.368490e+09</td>\n",
       "    </tr>\n",
       "    <tr>\n",
       "      <th>75%</th>\n",
       "      <td>5.000000</td>\n",
       "      <td>1.388966e+09</td>\n",
       "    </tr>\n",
       "    <tr>\n",
       "      <th>max</th>\n",
       "      <td>5.000000</td>\n",
       "      <td>1.405987e+09</td>\n",
       "    </tr>\n",
       "  </tbody>\n",
       "</table>\n",
       "</div>"
      ],
      "text/plain": [
       "            overall  unixReviewTime\n",
       "count  10261.000000    1.026100e+04\n",
       "mean       4.488744    1.360606e+09\n",
       "std        0.894642    3.779735e+07\n",
       "min        1.000000    1.095466e+09\n",
       "25%        4.000000    1.343434e+09\n",
       "50%        5.000000    1.368490e+09\n",
       "75%        5.000000    1.388966e+09\n",
       "max        5.000000    1.405987e+09"
      ]
     },
     "execution_count": 37,
     "metadata": {},
     "output_type": "execute_result"
    }
   ],
   "source": [
    "df.describe()"
   ]
  },
  {
   "cell_type": "code",
   "execution_count": 43,
   "id": "6c7731b5",
   "metadata": {},
   "outputs": [
    {
     "name": "stdout",
     "output_type": "stream",
     "text": [
      "<class 'pandas.core.frame.DataFrame'>\n",
      "RangeIndex: 10261 entries, 0 to 10260\n",
      "Data columns (total 9 columns):\n",
      " #   Column          Non-Null Count  Dtype \n",
      "---  ------          --------------  ----- \n",
      " 0   reviewerID      10261 non-null  object\n",
      " 1   asin            10261 non-null  object\n",
      " 2   reviewerName    10234 non-null  object\n",
      " 3   helpful         10261 non-null  object\n",
      " 4   reviewText      10261 non-null  object\n",
      " 5   overall         10261 non-null  int64 \n",
      " 6   summary         10261 non-null  object\n",
      " 7   unixReviewTime  10261 non-null  int64 \n",
      " 8   reviewTime      10261 non-null  object\n",
      "dtypes: int64(2), object(7)\n",
      "memory usage: 721.6+ KB\n"
     ]
    }
   ],
   "source": [
    "df.info()"
   ]
  },
  {
   "cell_type": "markdown",
   "id": "72a14135",
   "metadata": {},
   "source": [
    "So there are no null values in all columns except the reviewerName column. As expected, the overall column is of type int. The unixReviewTime is in seconds, and of type int, but this column will likely not be of any use. From the describe method above, it looks like most rerviews are positive. This may cause issues later.\n",
    "\n",
    "The columns with explanations are as follows:\n",
    " - reviewerID: the ID of the reviewer\n",
    " - asin: the ID of the product\n",
    " - reviewerName: the name of the reviewer\n",
    " - helpful: helpfulness rating of the review\n",
    " - reviewText: the actual review, in longform text\n",
    " - overall: the rating of the product\n",
    " - summary: a quick summary of the text review\n",
    " - unixReviewTime: the time of the review, in seconds from Jan 1 1970\n",
    " - reviewTime: the time of the review, in datetime format\n",
    "\n",
    "Let's now clean the data and explore it.\n",
    "\n",
    "## Data Cleaning and Exploring"
   ]
  },
  {
   "cell_type": "code",
   "execution_count": 51,
   "id": "3a4ad1f1",
   "metadata": {},
   "outputs": [
    {
     "data": {
      "text/html": [
       "<div>\n",
       "<style scoped>\n",
       "    .dataframe tbody tr th:only-of-type {\n",
       "        vertical-align: middle;\n",
       "    }\n",
       "\n",
       "    .dataframe tbody tr th {\n",
       "        vertical-align: top;\n",
       "    }\n",
       "\n",
       "    .dataframe thead th {\n",
       "        text-align: right;\n",
       "    }\n",
       "</style>\n",
       "<table border=\"1\" class=\"dataframe\">\n",
       "  <thead>\n",
       "    <tr style=\"text-align: right;\">\n",
       "      <th></th>\n",
       "      <th>reviewerID</th>\n",
       "      <th>asin</th>\n",
       "      <th>reviewerName</th>\n",
       "      <th>helpful</th>\n",
       "      <th>reviewText</th>\n",
       "      <th>overall</th>\n",
       "      <th>summary</th>\n",
       "      <th>unixReviewTime</th>\n",
       "      <th>reviewTime</th>\n",
       "    </tr>\n",
       "  </thead>\n",
       "  <tbody>\n",
       "    <tr>\n",
       "      <th>41</th>\n",
       "      <td>AA5TINW2RJ195</td>\n",
       "      <td>B000068NW5</td>\n",
       "      <td>NaN</td>\n",
       "      <td>[0, 0]</td>\n",
       "      <td>Good quality cable and sounds very good</td>\n",
       "      <td>5</td>\n",
       "      <td>Five Stars</td>\n",
       "      <td>1405382400</td>\n",
       "      <td>07 15, 2014</td>\n",
       "    </tr>\n",
       "    <tr>\n",
       "      <th>263</th>\n",
       "      <td>A14VAT5EAX3D9S</td>\n",
       "      <td>B0002CZSJO</td>\n",
       "      <td>NaN</td>\n",
       "      <td>[0, 0]</td>\n",
       "      <td>It is exactly what you need in a capo! You can...</td>\n",
       "      <td>5</td>\n",
       "      <td>Great</td>\n",
       "      <td>1364860800</td>\n",
       "      <td>04 2, 2013</td>\n",
       "    </tr>\n",
       "    <tr>\n",
       "      <th>264</th>\n",
       "      <td>A2RVY2GDMZHH4</td>\n",
       "      <td>B0002CZSJO</td>\n",
       "      <td>NaN</td>\n",
       "      <td>[0, 0]</td>\n",
       "      <td>Love these capos and nice that you can get the...</td>\n",
       "      <td>5</td>\n",
       "      <td>Always great Kyser</td>\n",
       "      <td>1356652800</td>\n",
       "      <td>12 28, 2012</td>\n",
       "    </tr>\n",
       "    <tr>\n",
       "      <th>432</th>\n",
       "      <td>A3BMYEA3J6RBVV</td>\n",
       "      <td>B0002CZVB4</td>\n",
       "      <td>NaN</td>\n",
       "      <td>[0, 0]</td>\n",
       "      <td>Bought it as a gift. Friend loved it very much.</td>\n",
       "      <td>5</td>\n",
       "      <td>Friend loved it very much</td>\n",
       "      <td>1405209600</td>\n",
       "      <td>07 13, 2014</td>\n",
       "    </tr>\n",
       "    <tr>\n",
       "      <th>667</th>\n",
       "      <td>AA5TINW2RJ195</td>\n",
       "      <td>B0002D01K4</td>\n",
       "      <td>NaN</td>\n",
       "      <td>[0, 0]</td>\n",
       "      <td>At first it look small for my guitar but it fi...</td>\n",
       "      <td>5</td>\n",
       "      <td>Love it!</td>\n",
       "      <td>1405382400</td>\n",
       "      <td>07 15, 2014</td>\n",
       "    </tr>\n",
       "  </tbody>\n",
       "</table>\n",
       "</div>"
      ],
      "text/plain": [
       "         reviewerID        asin reviewerName helpful  \\\n",
       "41    AA5TINW2RJ195  B000068NW5          NaN  [0, 0]   \n",
       "263  A14VAT5EAX3D9S  B0002CZSJO          NaN  [0, 0]   \n",
       "264   A2RVY2GDMZHH4  B0002CZSJO          NaN  [0, 0]   \n",
       "432  A3BMYEA3J6RBVV  B0002CZVB4          NaN  [0, 0]   \n",
       "667   AA5TINW2RJ195  B0002D01K4          NaN  [0, 0]   \n",
       "\n",
       "                                            reviewText  overall  \\\n",
       "41             Good quality cable and sounds very good        5   \n",
       "263  It is exactly what you need in a capo! You can...        5   \n",
       "264  Love these capos and nice that you can get the...        5   \n",
       "432    Bought it as a gift. Friend loved it very much.        5   \n",
       "667  At first it look small for my guitar but it fi...        5   \n",
       "\n",
       "                       summary  unixReviewTime   reviewTime  \n",
       "41                  Five Stars      1405382400  07 15, 2014  \n",
       "263                      Great      1364860800   04 2, 2013  \n",
       "264         Always great Kyser      1356652800  12 28, 2012  \n",
       "432  Friend loved it very much      1405209600  07 13, 2014  \n",
       "667                   Love it!      1405382400  07 15, 2014  "
      ]
     },
     "execution_count": 51,
     "metadata": {},
     "output_type": "execute_result"
    }
   ],
   "source": [
    "df[df['reviewerName'].isna()].head()"
   ]
  },
  {
   "cell_type": "code",
   "execution_count": 56,
   "id": "03d132ee",
   "metadata": {},
   "outputs": [
    {
     "name": "stdout",
     "output_type": "stream",
     "text": [
      "Number of missing reviewerNames: 27\n"
     ]
    }
   ],
   "source": [
    "print('Number of missing reviewerNames:', df[df['reviewerName'].isna()].shape[0])"
   ]
  },
  {
   "cell_type": "markdown",
   "id": "3edded05",
   "metadata": {},
   "source": [
    "It looks like there are not many reviews that are missing names, when considering that the data has 10261 reviews. This means we could comfortably remove these reviews, but because we are doing sentiment analysis and we don't care about the reviewer names at the moment, we will just leave them in."
   ]
  },
  {
   "cell_type": "code",
   "execution_count": 63,
   "id": "629e36ba",
   "metadata": {},
   "outputs": [
    {
     "name": "stdout",
     "output_type": "stream",
     "text": [
      "Number of unique reviewers: 1429\n",
      "Number of unique instruments/products: 900\n"
     ]
    }
   ],
   "source": [
    "print('Number of unique reviewers:', len(df['reviewerID'].unique()))\n",
    "print('Number of unique instruments/products:', len(df['asin'].unique()))"
   ]
  },
  {
   "cell_type": "markdown",
   "id": "db81ca77",
   "metadata": {},
   "source": [
    "So there are many repeat reviewers. This means each reviewer reviewed a product roughly 7 times. Similarly, each product was reviewed about 11 times. This is a naive way to approach the number of reviews here this way, since it was just simple division, but we can double check this by counting them now. \n",
    "\n",
    "We can do this by taking a using the counter function on the values of the columns. This will output a dict, with the values being the frequency of the reiviewer or instrument ID's. Taking another counter of this will let us see how many times a reviewer reviewed a product, or how many times an instrument was reviewed."
   ]
  },
  {
   "cell_type": "code",
   "execution_count": 77,
   "id": "ca04a4c0",
   "metadata": {},
   "outputs": [
    {
     "data": {
      "text/plain": [
       "[(5, 558), (6, 296), (7, 188), (8, 128), (9, 71)]"
      ]
     },
     "execution_count": 77,
     "metadata": {},
     "output_type": "execute_result"
    }
   ],
   "source": [
    "#seeing how many times a reviewer reviewed an instrument\n",
    "Counter(Counter(df['reviewerID']).values()).most_common(5)"
   ]
  },
  {
   "cell_type": "code",
   "execution_count": 78,
   "id": "1ad68cbe",
   "metadata": {},
   "outputs": [
    {
     "data": {
      "text/plain": [
       "[(5, 197), (6, 141), (7, 107), (8, 77), (9, 61)]"
      ]
     },
     "execution_count": 78,
     "metadata": {},
     "output_type": "execute_result"
    }
   ],
   "source": [
    "#seeing how many times an instrument was reviewed\n",
    "Counter(Counter(df['asin']).values()).most_common(5)"
   ]
  },
  {
   "cell_type": "markdown",
   "id": "c8e9f6b6",
   "metadata": {},
   "source": [
    "So the simple division was naive indeed, as both of these cases had about 5-9 reviews only most of the time. In any case, this might be useful information later on, where we can see if a certain reviewer tends to rate more positively or not, or more importantly, if an instrument get more positive or negative reviews."
   ]
  },
  {
   "cell_type": "code",
   "execution_count": null,
   "id": "c716c6b4",
   "metadata": {},
   "outputs": [],
   "source": []
  }
 ],
 "metadata": {
  "kernelspec": {
   "display_name": "Python 3 (ipykernel)",
   "language": "python",
   "name": "python3"
  },
  "language_info": {
   "codemirror_mode": {
    "name": "ipython",
    "version": 3
   },
   "file_extension": ".py",
   "mimetype": "text/x-python",
   "name": "python",
   "nbconvert_exporter": "python",
   "pygments_lexer": "ipython3",
   "version": "3.8.5"
  }
 },
 "nbformat": 4,
 "nbformat_minor": 5
}
